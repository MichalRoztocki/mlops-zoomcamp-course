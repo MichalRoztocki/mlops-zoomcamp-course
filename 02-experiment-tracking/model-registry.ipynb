{
 "cells": [
  {
   "attachments": {},
   "cell_type": "markdown",
   "metadata": {},
   "source": [
    "## MLflow's Model Registry"
   ]
  },
  {
   "cell_type": "code",
   "execution_count": 3,
   "metadata": {},
   "outputs": [],
   "source": [
    "from mlflow.tracking import MlflowClient\n",
    "\n",
    "\n",
    "MLFLOW_TRACKING_URI = \"sqlite:///mlflow.db\""
   ]
  },
  {
   "attachments": {},
   "cell_type": "markdown",
   "metadata": {},
   "source": [
    "### Interacting with the MLflow tracking server\n",
    "\n",
    "The `MlflowClient` object allows us to interact with...\n",
    "- an MLflow Tracking Server that creates and manages experiments and runs.\n",
    "- an MLflow Registry Server that creates and manages registered models and model versions. \n",
    "\n",
    "To instantiate it we need to pass a tracking URI and/or a registry URI"
   ]
  },
  {
   "cell_type": "code",
   "execution_count": 85,
   "metadata": {},
   "outputs": [
    {
     "data": {
      "text/plain": [
       "[<Experiment: artifact_location='/mnt/c/Users/mrozt/Documents/DataTalksClub/mlops-zoomcamp-course/02-experiment-tracking/mlruns/2', creation_time=1685120904748, experiment_id='2', last_update_time=1685120904748, lifecycle_stage='active', name='my-cool-experiment', tags={}>,\n",
       " <Experiment: artifact_location='/mnt/c/Users/mrozt/Documents/DataTalksClub/mlops-zoomcamp-course/02-experiment-tracking/mlruns/1', creation_time=1684888611882, experiment_id='1', last_update_time=1684888611882, lifecycle_stage='active', name='nyc-taxi-experiment', tags={}>,\n",
       " <Experiment: artifact_location='/mnt/c/Users/mrozt/Documents/DataTalksClub/mlops-zoomcamp-course/02-experiment-tracking/mlruns/0', creation_time=1684888611850, experiment_id='0', last_update_time=1684888611850, lifecycle_stage='active', name='Default', tags={}>]"
      ]
     },
     "execution_count": 85,
     "metadata": {},
     "output_type": "execute_result"
    }
   ],
   "source": [
    "client = MlflowClient(tracking_uri=MLFLOW_TRACKING_URI)\n",
    "# client.list_experiments() Deprecated apparently\n",
    "client.search_experiments()"
   ]
  },
  {
   "cell_type": "code",
   "execution_count": 12,
   "metadata": {},
   "outputs": [
    {
     "data": {
      "text/plain": [
       "'2'"
      ]
     },
     "execution_count": 12,
     "metadata": {},
     "output_type": "execute_result"
    }
   ],
   "source": [
    "client.create_experiment(name=\"my-cool-experiment\")"
   ]
  },
  {
   "attachments": {},
   "cell_type": "markdown",
   "metadata": {},
   "source": [
    "Let's check the latest versions for the experiment with id `1`..."
   ]
  },
  {
   "cell_type": "code",
   "execution_count": 57,
   "metadata": {},
   "outputs": [],
   "source": [
    "from mlflow.entities import ViewType\n",
    "\n",
    "runs = client.search_runs(\n",
    "    experiment_ids='1',\n",
    "    filter_string=\"metrics.rmse < 7\",\n",
    "    run_view_type=ViewType.ACTIVE_ONLY,\n",
    "    max_results=8,\n",
    "    order_by=[\"metrics.rmse ASC\"]\n",
    ")"
   ]
  },
  {
   "cell_type": "code",
   "execution_count": 58,
   "metadata": {},
   "outputs": [
    {
     "name": "stdout",
     "output_type": "stream",
     "text": [
      "run id: d0b1526fbb3c4161b2ae442c0f246bfe, rmse: 6.2830\n",
      "run id: 4202850f89504c53a4ac466f1c14499a, rmse: 6.2830\n",
      "run id: c95a9f747fa54c7ca96c182b7674477a, rmse: 6.2830\n",
      "run id: 71fdd7d5270d4278b938a820502fca21, rmse: 6.2830\n",
      "run id: 0427cea87fd94154827eba1d7e0c9409, rmse: 6.2830\n",
      "run id: 2e076262f75842fa83c94b638e6cc1e3, rmse: 6.2830\n",
      "run id: ce4e759cb182448688f2eea228892ba5, rmse: 6.2869\n",
      "run id: 1d504ddfc9844565a27e83cd6f868704, rmse: 6.2881\n"
     ]
    }
   ],
   "source": [
    "for run in runs:\n",
    "    print(f\"run id: {run.info.run_id}, rmse: {run.data.metrics['rmse']:.4f}\")\n",
    "    # print(f\"params: {run.data.params}\")\n",
    "    # print(f\"tags: {run.data.tags}\")\n",
    "    # print(f\"status: {run.info}\")                                                                                                                                                                                   "
   ]
  },
  {
   "cell_type": "code",
   "execution_count": 62,
   "metadata": {},
   "outputs": [
    {
     "name": "stdout",
     "output_type": "stream",
     "text": [
      "run id: d0b1526fbb3c4161b2ae442c0f246bfe, rmse: 6.2830, model file size: 4.3 MB\n",
      "run id: 4202850f89504c53a4ac466f1c14499a, rmse: 6.2830, model file size: 4.3 MB\n",
      "run id: c95a9f747fa54c7ca96c182b7674477a, rmse: 6.2830, model file size: 4.3 MB\n",
      "run id: 71fdd7d5270d4278b938a820502fca21, rmse: 6.2830, model file size: 4.3 MB\n",
      "run id: 0427cea87fd94154827eba1d7e0c9409, rmse: 6.2830, model file size: 4.3 MB\n",
      "run id: 2e076262f75842fa83c94b638e6cc1e3, rmse: 6.2830, model file size: model not saved\n",
      "run id: ce4e759cb182448688f2eea228892ba5, rmse: 6.2869, model file size: model not saved\n",
      "run id: 1d504ddfc9844565a27e83cd6f868704, rmse: 6.2881, model file size: model not saved\n"
     ]
    }
   ],
   "source": [
    "import os\n",
    "for run in runs:\n",
    "    model_file_path = run.info.artifact_uri + \"/models_mlflow/model.xgb\"\n",
    "    if not os.path.isfile(model_file_path):\n",
    "        print(f\"run id: {run.info.run_id}, rmse: {run.data.metrics['rmse']:.4f}, model file size: model not saved\")\n",
    "    else:\n",
    "        print(f\"run id: {run.info.run_id}, rmse: {run.data.metrics['rmse']:.4f}, model file size: {os.path.getsize(model_file_path) / 1024 / 1024:.1f} MB\")"
   ]
  },
  {
   "attachments": {},
   "cell_type": "markdown",
   "metadata": {},
   "source": [
    "### Interacting with the Model Registry\n",
    "\n",
    "In this section We will use the `MlflowClient` instance to:\n",
    "\n",
    "1. Register a new version for the experiment `nyc-taxi-regressor`\n",
    "2. Retrieve the latests versions of the model `nyc-taxi-regressor` and check that a new version `4` was created.\n",
    "3. Transition the version `4` to \"Staging\" and adding annotations to it."
   ]
  },
  {
   "cell_type": "code",
   "execution_count": 113,
   "metadata": {},
   "outputs": [],
   "source": [
    "import mlflow\n",
    "\n",
    "mlflow.set_tracking_uri(MLFLOW_TRACKING_URI)"
   ]
  },
  {
   "cell_type": "code",
   "execution_count": 43,
   "metadata": {},
   "outputs": [
    {
     "name": "stderr",
     "output_type": "stream",
     "text": [
      "Registered model 'nyc-taxi-regressor' already exists. Creating a new version of this model...\n",
      "2023/05/26 14:02:34 INFO mlflow.tracking._model_registry.client: Waiting up to 300 seconds for model version to finish creation. Model name: nyc-taxi-regressor, version 2\n",
      "Created version '2' of model 'nyc-taxi-regressor'.\n"
     ]
    },
    {
     "data": {
      "text/plain": [
       "<ModelVersion: aliases=[], creation_timestamp=1685124154051, current_stage='None', description=None, last_updated_timestamp=1685124154051, name='nyc-taxi-regressor', run_id='d0b1526fbb3c4161b2ae442c0f246bfe', run_link=None, source='/mnt/c/Users/mrozt/Documents/DataTalksClub/mlops-zoomcamp-course/02-experiment-tracking/mlruns/1/d0b1526fbb3c4161b2ae442c0f246bfe/artifacts/model', status='READY', status_message=None, tags={}, user_id=None, version=2>"
      ]
     },
     "execution_count": 43,
     "metadata": {},
     "output_type": "execute_result"
    }
   ],
   "source": [
    "run_id = \"d0b1526fbb3c4161b2ae442c0f246bfe\"\n",
    "model_uri = f\"runs:/{run_id}/model\"\n",
    "mlflow.register_model(model_uri=model_uri, name=\"nyc-taxi-regressor\")"
   ]
  },
  {
   "cell_type": "code",
   "execution_count": 66,
   "metadata": {},
   "outputs": [
    {
     "data": {
      "text/plain": [
       "<RegisteredModel: aliases={}, creation_timestamp=1685050712544, description='The NYC Taxi Regressor for Ride Duration', last_updated_timestamp=1685124154051, latest_versions=[<ModelVersion: aliases=[], creation_timestamp=1685050712648, current_stage='Staging', description='', last_updated_timestamp=1685050991934, name='nyc-taxi-regressor', run_id='d0b1526fbb3c4161b2ae442c0f246bfe', run_link='', source='/mnt/c/Users/mrozt/Documents/DataTalksClub/mlops-zoomcamp-course/02-experiment-tracking/mlruns/1/d0b1526fbb3c4161b2ae442c0f246bfe/artifacts/models_mlflow', status='READY', status_message=None, tags={'model': 'xgboost'}, user_id=None, version=1>,\n",
       " <ModelVersion: aliases=[], creation_timestamp=1685124154051, current_stage='None', description=None, last_updated_timestamp=1685124154051, name='nyc-taxi-regressor', run_id='d0b1526fbb3c4161b2ae442c0f246bfe', run_link=None, source='/mnt/c/Users/mrozt/Documents/DataTalksClub/mlops-zoomcamp-course/02-experiment-tracking/mlruns/1/d0b1526fbb3c4161b2ae442c0f246bfe/artifacts/model', status='READY', status_message=None, tags={}, user_id=None, version=2>], name='nyc-taxi-regressor', tags={}>"
      ]
     },
     "execution_count": 66,
     "metadata": {},
     "output_type": "execute_result"
    }
   ],
   "source": [
    "client.get_registered_model(name=\"nyc-taxi-regressor\")"
   ]
  },
  {
   "cell_type": "code",
   "execution_count": 67,
   "metadata": {},
   "outputs": [
    {
     "name": "stdout",
     "output_type": "stream",
     "text": [
      "version: 1, stage: Staging\n",
      "version: 2, stage: None\n"
     ]
    }
   ],
   "source": [
    "model_name = \"nyc-taxi-regressor\"\n",
    "latest_versions = client.get_latest_versions(name=model_name)\n",
    "\n",
    "for version in latest_versions:\n",
    "    print(f\"version: {version.version}, stage: {version.current_stage}\")"
   ]
  },
  {
   "cell_type": "code",
   "execution_count": 68,
   "metadata": {},
   "outputs": [
    {
     "data": {
      "text/plain": [
       "<ModelVersion: aliases=[], creation_timestamp=1685124154051, current_stage='Staging', description=None, last_updated_timestamp=1685150274621, name='nyc-taxi-regressor', run_id='d0b1526fbb3c4161b2ae442c0f246bfe', run_link=None, source='/mnt/c/Users/mrozt/Documents/DataTalksClub/mlops-zoomcamp-course/02-experiment-tracking/mlruns/1/d0b1526fbb3c4161b2ae442c0f246bfe/artifacts/model', status='READY', status_message=None, tags={}, user_id=None, version=2>"
      ]
     },
     "execution_count": 68,
     "metadata": {},
     "output_type": "execute_result"
    }
   ],
   "source": [
    "model_version = 2\n",
    "new_stage = \"Staging\"\n",
    "client.transition_model_version_stage(\n",
    "    name=model_name,\n",
    "    version=model_version,\n",
    "    stage=new_stage,\n",
    "    archive_existing_versions=False\n",
    ")"
   ]
  },
  {
   "cell_type": "code",
   "execution_count": 69,
   "metadata": {},
   "outputs": [
    {
     "name": "stdout",
     "output_type": "stream",
     "text": [
      "version: 2, stage: Staging\n"
     ]
    }
   ],
   "source": [
    "model_name = \"nyc-taxi-regressor\"\n",
    "latest_versions = client.get_latest_versions(name=model_name)\n",
    "\n",
    "for version in latest_versions:\n",
    "    print(f\"version: {version.version}, stage: {version.current_stage}\")"
   ]
  },
  {
   "cell_type": "code",
   "execution_count": 70,
   "metadata": {},
   "outputs": [
    {
     "data": {
      "text/plain": [
       "<ModelVersion: aliases=[], creation_timestamp=1685124154051, current_stage='Staging', description='The model version 2 was transitioned to Staging on 2023-05-26', last_updated_timestamp=1685150402461, name='nyc-taxi-regressor', run_id='d0b1526fbb3c4161b2ae442c0f246bfe', run_link=None, source='/mnt/c/Users/mrozt/Documents/DataTalksClub/mlops-zoomcamp-course/02-experiment-tracking/mlruns/1/d0b1526fbb3c4161b2ae442c0f246bfe/artifacts/model', status='READY', status_message=None, tags={}, user_id=None, version=2>"
      ]
     },
     "execution_count": 70,
     "metadata": {},
     "output_type": "execute_result"
    }
   ],
   "source": [
    "from datetime import datetime\n",
    "\n",
    "date = datetime.today().date()\n",
    "client.update_model_version(\n",
    "    name=model_name,\n",
    "    version=model_version,\n",
    "    description=f\"The model version {model_version} was transitioned to {new_stage} on {date}\"\n",
    ")"
   ]
  },
  {
   "cell_type": "code",
   "execution_count": null,
   "metadata": {},
   "outputs": [],
   "source": []
  },
  {
   "attachments": {},
   "cell_type": "markdown",
   "metadata": {},
   "source": [
    "### Comparing versions and selecting the new \"Production\" model\n",
    "\n",
    "In the last section, we will retrieve models registered in the model registry and compare their performance on an unseen test set. The idea is to simulate the scenario in which a deployment engineer has to interact with the model registry to decide whether to update the model version that is in production or not.\n",
    "\n",
    "These are the steps:\n",
    "\n",
    "1. Load the test dataset, which corresponds to the NYC Green Taxi data from the month of March 2021.\n",
    "2. Download the `DictVectorizer` that was fitted using the training data and saved to MLflow as an artifact, and load it with pickle.\n",
    "3. Preprocess the test set using the `DictVectorizer` so we can properly feed the regressors.\n",
    "4. Make predictions on the test set using the model versions that are currently in the \"Staging\" and \"Production\" stages, and compare their performance.\n",
    "5. Based on the results, update the \"Production\" model version accordingly.\n",
    "\n",
    "\n",
    "**Note: the model registry doesn't actually deploy the model to production when you transition a model to the \"Production\" stage, it just assign a label to that model version. You should complement the registry with some CI/CD code that does the actual deployment.**"
   ]
  },
  {
   "cell_type": "code",
   "execution_count": 99,
   "metadata": {},
   "outputs": [],
   "source": [
    "from sklearn.metrics import mean_squared_error\n",
    "import pandas as pd\n",
    "\n",
    "\n",
    "def read_dataframe(filename):\n",
    "    df = pd.read_parquet(filename)\n",
    "\n",
    "    df.lpep_dropoff_datetime = pd.to_datetime(df.lpep_dropoff_datetime)\n",
    "    df.lpep_pickup_datetime = pd.to_datetime(df.lpep_pickup_datetime)\n",
    "\n",
    "    df['duration'] = df.lpep_dropoff_datetime - df.lpep_pickup_datetime\n",
    "    df.duration = df.duration.apply(lambda td: td.total_seconds() / 60)\n",
    "\n",
    "    df = df[(df.duration >= 1) & (df.duration <= 60)]\n",
    "\n",
    "    categorical = ['PULocationID', 'DOLocationID']\n",
    "    df[categorical] = df[categorical].astype(str)\n",
    "    \n",
    "    return df\n",
    "\n",
    "\n",
    "def preprocess(df, dv):\n",
    "    df['PU_DO'] = df['PULocationID'] + '_' + df['DOLocationID']\n",
    "    categorical = ['PU_DO']\n",
    "    numerical = ['trip_distance']\n",
    "    train_dicts = df[categorical + numerical].to_dict(orient='records')\n",
    "    return dv.transform(train_dicts)\n",
    "\n",
    "\n",
    "def test_model(name, stage, X_test, y_test):\n",
    "    model = mlflow.pyfunc.load_model(f\"models:/{name}/{stage}\")\n",
    "    y_pred = model.predict(X_test)\n",
    "    return {\"rmse\": mean_squared_error(y_test, y_pred, squared=False)}"
   ]
  },
  {
   "cell_type": "code",
   "execution_count": null,
   "metadata": {},
   "outputs": [],
   "source": []
  },
  {
   "cell_type": "code",
   "execution_count": 100,
   "metadata": {},
   "outputs": [],
   "source": [
    "df = read_dataframe(\"data/green_tripdata_2021-03.parquet\")"
   ]
  },
  {
   "cell_type": "code",
   "execution_count": 114,
   "metadata": {},
   "outputs": [
    {
     "data": {
      "text/plain": [
       "<RegisteredModel: aliases={}, creation_timestamp=1685050712544, description='The NYC Taxi Regressor for Ride Duration', last_updated_timestamp=1685152330259, latest_versions=[<ModelVersion: aliases=[], creation_timestamp=1685124154051, current_stage='Archived', description='The model version 2 was transitioned to Staging on 2023-05-26', last_updated_timestamp=1685152212108, name='nyc-taxi-regressor', run_id='d0b1526fbb3c4161b2ae442c0f246bfe', run_link=None, source='/mnt/c/Users/mrozt/Documents/DataTalksClub/mlops-zoomcamp-course/02-experiment-tracking/mlruns/1/d0b1526fbb3c4161b2ae442c0f246bfe/artifacts/model', status='READY', status_message=None, tags={}, user_id=None, version=2>,\n",
       " <ModelVersion: aliases=[], creation_timestamp=1685151250429, current_stage='Production', description='', last_updated_timestamp=1685151264588, name='nyc-taxi-regressor', run_id='40176c2067c1492ebbb31a639416d119', run_link='', source='/mnt/c/Users/mrozt/Documents/DataTalksClub/mlops-zoomcamp-course/02-experiment-tracking/mlruns/1/40176c2067c1492ebbb31a639416d119/artifacts/models_mlflow', status='READY', status_message=None, tags={}, user_id=None, version=3>,\n",
       " <ModelVersion: aliases=[], creation_timestamp=1685152304082, current_stage='Staging', description='', last_updated_timestamp=1685152322390, name='nyc-taxi-regressor', run_id='0427cea87fd94154827eba1d7e0c9409', run_link='', source='/mnt/c/Users/mrozt/Documents/DataTalksClub/mlops-zoomcamp-course/02-experiment-tracking/mlruns/1/0427cea87fd94154827eba1d7e0c9409/artifacts/models_mlflow', status='READY', status_message=None, tags={}, user_id=None, version=5>], name='nyc-taxi-regressor', tags={}>"
      ]
     },
     "execution_count": 114,
     "metadata": {},
     "output_type": "execute_result"
    }
   ],
   "source": [
    "client.get_registered_model(name=model_name)"
   ]
  },
  {
   "cell_type": "code",
   "execution_count": 115,
   "metadata": {},
   "outputs": [],
   "source": [
    "run_id = '40176c2067c1492ebbb31a639416d119'"
   ]
  },
  {
   "cell_type": "code",
   "execution_count": 116,
   "metadata": {},
   "outputs": [
    {
     "data": {
      "text/plain": [
       "'/mnt/c/Users/mrozt/Documents/DataTalksClub/mlops-zoomcamp-course/02-experiment-tracking/preprocessor'"
      ]
     },
     "execution_count": 116,
     "metadata": {},
     "output_type": "execute_result"
    }
   ],
   "source": [
    "# client.download_artifacts(run_id=run_id, path='preprocessor', dst_path='.') # Deprecated\n",
    "mlflow.artifacts.download_artifacts(run_id=run_id, artifact_path='preprocessor', dst_path='.')"
   ]
  },
  {
   "cell_type": "code",
   "execution_count": 117,
   "metadata": {},
   "outputs": [],
   "source": [
    "import pickle\n",
    "\n",
    "with open(\"preprocessor/preprocessor.b\", \"rb\") as f_in:\n",
    "    dv = pickle.load(f_in)"
   ]
  },
  {
   "cell_type": "code",
   "execution_count": 118,
   "metadata": {},
   "outputs": [],
   "source": [
    "X_test = preprocess(df, dv)"
   ]
  },
  {
   "cell_type": "code",
   "execution_count": 119,
   "metadata": {},
   "outputs": [],
   "source": [
    "target = \"duration\"\n",
    "y_test = df[target].values"
   ]
  },
  {
   "cell_type": "code",
   "execution_count": null,
   "metadata": {},
   "outputs": [],
   "source": []
  },
  {
   "cell_type": "code",
   "execution_count": 120,
   "metadata": {},
   "outputs": [
    {
     "name": "stderr",
     "output_type": "stream",
     "text": [
      "2023/05/26 21:53:13 WARNING mlflow.pyfunc: Detected one or more mismatches between the model's dependencies and the current Python environment:\n",
      " - mlflow (current: 2.3.2, required: mlflow==2.3)\n",
      "To fix the mismatches, call `mlflow.pyfunc.get_model_dependencies(model_uri)` to fetch the model's environment and install dependencies using the resulting environment file.\n"
     ]
    },
    {
     "name": "stdout",
     "output_type": "stream",
     "text": [
      "CPU times: user 8.84 s, sys: 574 ms, total: 9.41 s\n",
      "Wall time: 11.5 s\n"
     ]
    },
    {
     "data": {
      "text/plain": [
       "{'rmse': 6.884380652609624}"
      ]
     },
     "execution_count": 120,
     "metadata": {},
     "output_type": "execute_result"
    }
   ],
   "source": [
    "%time test_model(name=model_name, stage=\"Production\", X_test=X_test, y_test=y_test)"
   ]
  },
  {
   "cell_type": "code",
   "execution_count": 121,
   "metadata": {},
   "outputs": [
    {
     "name": "stderr",
     "output_type": "stream",
     "text": [
      "2023/05/26 21:53:24 WARNING mlflow.pyfunc: Detected one or more mismatches between the model's dependencies and the current Python environment:\n",
      " - mlflow (current: 2.3.2, required: mlflow==2.3)\n",
      "To fix the mismatches, call `mlflow.pyfunc.get_model_dependencies(model_uri)` to fetch the model's environment and install dependencies using the resulting environment file.\n"
     ]
    },
    {
     "name": "stdout",
     "output_type": "stream",
     "text": [
      "[21:53:26] WARNING: ../src/objective/regression_obj.cu:213: reg:linear is now deprecated in favor of reg:squarederror.\n",
      "CPU times: user 17.7 s, sys: 302 ms, total: 18 s\n",
      "Wall time: 4.61 s\n"
     ]
    },
    {
     "data": {
      "text/plain": [
       "{'rmse': 6.233843586198147}"
      ]
     },
     "execution_count": 121,
     "metadata": {},
     "output_type": "execute_result"
    }
   ],
   "source": [
    "%time test_model(name=model_name, stage=\"Staging\", X_test=X_test, y_test=y_test)"
   ]
  },
  {
   "cell_type": "code",
   "execution_count": 122,
   "metadata": {},
   "outputs": [
    {
     "data": {
      "text/plain": [
       "<ModelVersion: aliases=[], creation_timestamp=1685152299364, current_stage='Production', description='', last_updated_timestamp=1685152866587, name='nyc-taxi-regressor', run_id='71fdd7d5270d4278b938a820502fca21', run_link='', source='/mnt/c/Users/mrozt/Documents/DataTalksClub/mlops-zoomcamp-course/02-experiment-tracking/mlruns/1/71fdd7d5270d4278b938a820502fca21/artifacts/models_mlflow', status='READY', status_message=None, tags={}, user_id=None, version=4>"
      ]
     },
     "execution_count": 122,
     "metadata": {},
     "output_type": "execute_result"
    }
   ],
   "source": [
    "client.transition_model_version_stage(\n",
    "    name=model_name,\n",
    "    version=4,\n",
    "    stage=\"Production\",\n",
    "    archive_existing_versions=True\n",
    ")"
   ]
  },
  {
   "cell_type": "code",
   "execution_count": null,
   "metadata": {},
   "outputs": [],
   "source": []
  }
 ],
 "metadata": {
  "interpreter": {
   "hash": "0848c9d6c7d415ad6c477ff7ff8e98694d1a4aa96d0deee89244642e6b630036"
  },
  "kernelspec": {
   "display_name": "Python 3.9.12 ('exp-tracking-env')",
   "language": "python",
   "name": "python3"
  },
  "language_info": {
   "codemirror_mode": {
    "name": "ipython",
    "version": 3
   },
   "file_extension": ".py",
   "mimetype": "text/x-python",
   "name": "python",
   "nbconvert_exporter": "python",
   "pygments_lexer": "ipython3",
   "version": "3.9.12"
  },
  "orig_nbformat": 4
 },
 "nbformat": 4,
 "nbformat_minor": 2
}
